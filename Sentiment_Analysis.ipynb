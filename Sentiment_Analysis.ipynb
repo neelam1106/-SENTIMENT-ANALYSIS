{
  "cells": [
    {
      "cell_type": "code",
      "execution_count": null,
      "id": "29a688ae-9344-44bc-b22a-f3e17e07dd4a",
      "metadata": {
        "id": "29a688ae-9344-44bc-b22a-f3e17e07dd4a",
        "outputId": "850bd855-7ece-4dd0-a578-cac2e0a83b5e"
      },
      "outputs": [
        {
          "name": "stdout",
          "output_type": "stream",
          "text": [
            "Note: you may need to restart the kernel to use updated packages.Requirement already satisfied: pandas in c:\\users\\pcm\\appdata\\local\\programs\\python\\python312\\lib\\site-packages (2.2.2)\n",
            "Requirement already satisfied: nltk in c:\\users\\pcm\\appdata\\local\\programs\\python\\python312\\lib\\site-packages (3.9.1)\n",
            "Requirement already satisfied: textblob in c:\\users\\pcm\\appdata\\local\\programs\\python\\python312\\lib\\site-packages (0.18.0.post0)\n",
            "Requirement already satisfied: numpy>=1.26.0 in c:\\users\\pcm\\appdata\\local\\programs\\python\\python312\\lib\\site-packages (from pandas) (2.1.0)\n",
            "Requirement already satisfied: python-dateutil>=2.8.2 in c:\\users\\pcm\\appdata\\local\\programs\\python\\python312\\lib\\site-packages (from pandas) (2.9.0.post0)\n",
            "Requirement already satisfied: pytz>=2020.1 in c:\\users\\pcm\\appdata\\local\\programs\\python\\python312\\lib\\site-packages (from pandas) (2024.1)\n",
            "Requirement already satisfied: tzdata>=2022.7 in c:\\users\\pcm\\appdata\\local\\programs\\python\\python312\\lib\\site-packages (from pandas) (2024.1)\n",
            "Requirement already satisfied: click in c:\\users\\pcm\\appdata\\local\\programs\\python\\python312\\lib\\site-packages (from nltk) (8.1.7)\n",
            "Requirement already satisfied: joblib in c:\\users\\pcm\\appdata\\local\\programs\\python\\python312\\lib\\site-packages (from nltk) (1.4.2)\n",
            "Requirement already satisfied: regex>=2021.8.3 in c:\\users\\pcm\\appdata\\local\\programs\\python\\python312\\lib\\site-packages (from nltk) (2024.7.24)\n",
            "Requirement already satisfied: tqdm in c:\\users\\pcm\\appdata\\local\\programs\\python\\python312\\lib\\site-packages (from nltk) (4.66.5)\n",
            "Requirement already satisfied: six>=1.5 in c:\\users\\pcm\\appdata\\local\\programs\\python\\python312\\lib\\site-packages (from python-dateutil>=2.8.2->pandas) (1.16.0)\n",
            "Requirement already satisfied: colorama in c:\\users\\pcm\\appdata\\local\\programs\\python\\python312\\lib\\site-packages (from click->nltk) (0.4.6)\n",
            "\n"
          ]
        },
        {
          "name": "stderr",
          "output_type": "stream",
          "text": [
            "\n",
            "[notice] A new release of pip is available: 24.2 -> 25.0.1\n",
            "[notice] To update, run: python.exe -m pip install --upgrade pip\n"
          ]
        }
      ],
      "source": [
        "pip install pandas nltk textblob\n"
      ]
    },
    {
      "cell_type": "code",
      "execution_count": null,
      "id": "4a1a9970-76e9-47f1-bf65-1eb7666ec225",
      "metadata": {
        "id": "4a1a9970-76e9-47f1-bf65-1eb7666ec225",
        "outputId": "9cff22a6-9cc9-42a2-f623-a548fd319bf1"
      },
      "outputs": [
        {
          "name": "stdout",
          "output_type": "stream",
          "text": [
            "                                                Text Sentiment\n",
            "0  I absolutely love this phone! The battery life...  Positive\n",
            "1  Worst experience ever. I will never shop here ...  Negative\n",
            "2          The movie was just okay, nothing special.  Positive\n",
            "3  Had an amazing dinner at this new restaurant! ...  Positive\n",
            "4  The service was terrible, waited over an hour ...  Negative\n"
          ]
        }
      ],
      "source": [
        "import pandas as pd\n",
        "\n",
        "# Load your dataset\n",
        "df = pd.read_csv(r\"C:\\Users\\pcm\\OneDrive\\DesktopInternship\\large_sentiment_dataset.csv\")\n",
        "\n",
        "# Check the first few rows\n",
        "print(df.head())\n"
      ]
    },
    {
      "cell_type": "code",
      "execution_count": null,
      "id": "6ef700c2-932f-4b0a-b121-c28d3e82ce0b",
      "metadata": {
        "id": "6ef700c2-932f-4b0a-b121-c28d3e82ce0b",
        "outputId": "d65fe307-d3aa-40bd-91db-c8fecfd0d8b4"
      },
      "outputs": [
        {
          "name": "stdout",
          "output_type": "stream",
          "text": [
            "                                                Text Sentiment\n",
            "0  I absolutely love this phone! The battery life...  Positive\n",
            "1  Worst experience ever. I will never shop here ...  Negative\n",
            "2          The movie was just okay, nothing special.  Positive\n",
            "3  Had an amazing dinner at this new restaurant! ...  Positive\n",
            "4  The service was terrible, waited over an hour ...  Negative\n"
          ]
        }
      ],
      "source": [
        "from textblob import TextBlob\n",
        "\n",
        "# Function to analyze sentiment\n",
        "def get_sentiment(text):\n",
        "    polarity = TextBlob(str(text)).sentiment.polarity\n",
        "    if polarity > 0:\n",
        "        return \"Positive\"\n",
        "    elif polarity < 0:\n",
        "        return \"Negative\"\n",
        "    else:\n",
        "        return \"Neutral\"\n",
        "\n",
        "# Apply sentiment analysis to the dataset\n",
        "df[\"Sentiment\"] = df[\"Text\"].apply(get_sentiment)\n",
        "\n",
        "# Display results\n",
        "print(df.head())\n"
      ]
    },
    {
      "cell_type": "code",
      "execution_count": null,
      "id": "53746685-610a-460c-bb9d-e03c0e6b0649",
      "metadata": {
        "id": "53746685-610a-460c-bb9d-e03c0e6b0649"
      },
      "outputs": [],
      "source": [
        "df.to_csv(\"sentiment_analysis_results.csv\", index=False)\n"
      ]
    }
  ],
  "metadata": {
    "kernelspec": {
      "display_name": "Python 3 (ipykernel)",
      "language": "python",
      "name": "python3"
    },
    "language_info": {
      "codemirror_mode": {
        "name": "ipython",
        "version": 3
      },
      "file_extension": ".py",
      "mimetype": "text/x-python",
      "name": "python",
      "nbconvert_exporter": "python",
      "pygments_lexer": "ipython3",
      "version": "3.12.5"
    },
    "colab": {
      "provenance": []
    }
  },
  "nbformat": 4,
  "nbformat_minor": 5
}